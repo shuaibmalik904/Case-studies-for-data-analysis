{
 "cells": [
  {
   "cell_type": "code",
   "execution_count": 1,
   "id": "d1a17652",
   "metadata": {},
   "outputs": [],
   "source": [
    "import pandas as pd \n",
    "import numpy as np\n",
    "import seaborn as sns\n",
    "import matplotlib.pyplot as plt\n",
    "\n",
    "%matplotlib inline"
   ]
  },
  {
   "cell_type": "markdown",
   "id": "667ab177",
   "metadata": {},
   "source": [
    "## 1. Merge the datasets Customers, Product Hierarchy and Transactions as Customer_Final. Ensure to keep all customers who have done transactions with us and select the join type accordingly. "
   ]
  },
  {
   "cell_type": "code",
   "execution_count": 2,
   "id": "1b480da4",
   "metadata": {},
   "outputs": [],
   "source": [
    "customer=pd.read_csv('D:/Projects/Python Foundation Case Study 1 - Retail Case Study B/Customer.csv')\n",
    "product=pd.read_csv('D:/Projects/Python Foundation Case Study 1 - Retail Case Study B/prod_cat_info.csv')\n",
    "trans=pd.read_csv('D:/Projects/Python Foundation Case Study 1 - Retail Case Study B/Transactions.csv')"
   ]
  },
  {
   "cell_type": "code",
   "execution_count": 3,
   "id": "e40f2df4",
   "metadata": {},
   "outputs": [
    {
     "data": {
      "text/html": [
       "<div>\n",
       "<style scoped>\n",
       "    .dataframe tbody tr th:only-of-type {\n",
       "        vertical-align: middle;\n",
       "    }\n",
       "\n",
       "    .dataframe tbody tr th {\n",
       "        vertical-align: top;\n",
       "    }\n",
       "\n",
       "    .dataframe thead th {\n",
       "        text-align: right;\n",
       "    }\n",
       "</style>\n",
       "<table border=\"1\" class=\"dataframe\">\n",
       "  <thead>\n",
       "    <tr style=\"text-align: right;\">\n",
       "      <th></th>\n",
       "      <th>customer_Id</th>\n",
       "      <th>DOB</th>\n",
       "      <th>Gender</th>\n",
       "      <th>city_code</th>\n",
       "      <th>transaction_id</th>\n",
       "      <th>tran_date</th>\n",
       "      <th>prod_subcat_code</th>\n",
       "      <th>prod_cat_code</th>\n",
       "      <th>Qty</th>\n",
       "      <th>Rate</th>\n",
       "      <th>Tax</th>\n",
       "      <th>total_amt</th>\n",
       "      <th>Store_type</th>\n",
       "      <th>prod_cat</th>\n",
       "      <th>prod_subcat</th>\n",
       "    </tr>\n",
       "  </thead>\n",
       "  <tbody>\n",
       "    <tr>\n",
       "      <th>0</th>\n",
       "      <td>268408</td>\n",
       "      <td>02-01-1970</td>\n",
       "      <td>M</td>\n",
       "      <td>4.0</td>\n",
       "      <td>87243835584</td>\n",
       "      <td>13-01-2014</td>\n",
       "      <td>7</td>\n",
       "      <td>5</td>\n",
       "      <td>5</td>\n",
       "      <td>187</td>\n",
       "      <td>98.175</td>\n",
       "      <td>1033.175</td>\n",
       "      <td>TeleShop</td>\n",
       "      <td>Books</td>\n",
       "      <td>Fiction</td>\n",
       "    </tr>\n",
       "    <tr>\n",
       "      <th>1</th>\n",
       "      <td>275152</td>\n",
       "      <td>16-01-1970</td>\n",
       "      <td>M</td>\n",
       "      <td>4.0</td>\n",
       "      <td>73109425404</td>\n",
       "      <td>25-03-2011</td>\n",
       "      <td>7</td>\n",
       "      <td>5</td>\n",
       "      <td>2</td>\n",
       "      <td>464</td>\n",
       "      <td>97.440</td>\n",
       "      <td>1025.440</td>\n",
       "      <td>e-Shop</td>\n",
       "      <td>Books</td>\n",
       "      <td>Fiction</td>\n",
       "    </tr>\n",
       "    <tr>\n",
       "      <th>2</th>\n",
       "      <td>275034</td>\n",
       "      <td>18-01-1970</td>\n",
       "      <td>F</td>\n",
       "      <td>4.0</td>\n",
       "      <td>64777271023</td>\n",
       "      <td>23-05-2011</td>\n",
       "      <td>7</td>\n",
       "      <td>5</td>\n",
       "      <td>2</td>\n",
       "      <td>197</td>\n",
       "      <td>41.370</td>\n",
       "      <td>435.370</td>\n",
       "      <td>Flagship store</td>\n",
       "      <td>Books</td>\n",
       "      <td>Fiction</td>\n",
       "    </tr>\n",
       "    <tr>\n",
       "      <th>3</th>\n",
       "      <td>270829</td>\n",
       "      <td>22-01-1970</td>\n",
       "      <td>F</td>\n",
       "      <td>8.0</td>\n",
       "      <td>87174343938</td>\n",
       "      <td>9/12/2013</td>\n",
       "      <td>7</td>\n",
       "      <td>5</td>\n",
       "      <td>4</td>\n",
       "      <td>1141</td>\n",
       "      <td>479.220</td>\n",
       "      <td>5043.220</td>\n",
       "      <td>e-Shop</td>\n",
       "      <td>Books</td>\n",
       "      <td>Fiction</td>\n",
       "    </tr>\n",
       "    <tr>\n",
       "      <th>4</th>\n",
       "      <td>267657</td>\n",
       "      <td>29-01-1970</td>\n",
       "      <td>F</td>\n",
       "      <td>7.0</td>\n",
       "      <td>76242744953</td>\n",
       "      <td>23-05-2013</td>\n",
       "      <td>7</td>\n",
       "      <td>5</td>\n",
       "      <td>4</td>\n",
       "      <td>1020</td>\n",
       "      <td>428.400</td>\n",
       "      <td>4508.400</td>\n",
       "      <td>e-Shop</td>\n",
       "      <td>Books</td>\n",
       "      <td>Fiction</td>\n",
       "    </tr>\n",
       "  </tbody>\n",
       "</table>\n",
       "</div>"
      ],
      "text/plain": [
       "   customer_Id         DOB Gender  city_code  transaction_id   tran_date  \\\n",
       "0       268408  02-01-1970      M        4.0     87243835584  13-01-2014   \n",
       "1       275152  16-01-1970      M        4.0     73109425404  25-03-2011   \n",
       "2       275034  18-01-1970      F        4.0     64777271023  23-05-2011   \n",
       "3       270829  22-01-1970      F        8.0     87174343938   9/12/2013   \n",
       "4       267657  29-01-1970      F        7.0     76242744953  23-05-2013   \n",
       "\n",
       "   prod_subcat_code  prod_cat_code  Qty  Rate      Tax  total_amt  \\\n",
       "0                 7              5    5   187   98.175   1033.175   \n",
       "1                 7              5    2   464   97.440   1025.440   \n",
       "2                 7              5    2   197   41.370    435.370   \n",
       "3                 7              5    4  1141  479.220   5043.220   \n",
       "4                 7              5    4  1020  428.400   4508.400   \n",
       "\n",
       "       Store_type prod_cat prod_subcat  \n",
       "0        TeleShop    Books     Fiction  \n",
       "1          e-Shop    Books     Fiction  \n",
       "2  Flagship store    Books     Fiction  \n",
       "3          e-Shop    Books     Fiction  \n",
       "4          e-Shop    Books     Fiction  "
      ]
     },
     "execution_count": 3,
     "metadata": {},
     "output_type": "execute_result"
    }
   ],
   "source": [
    "sets=pd.merge(left=customer,right=trans,how='inner',left_on='customer_Id',right_on='cust_id')\n",
    "retail=pd.merge(left=sets,right=product,how='inner',left_on=['prod_subcat_code','prod_cat_code'],right_on=['prod_sub_cat_code','prod_cat_code'])\n",
    "retail=retail[['customer_Id','DOB','Gender','city_code','transaction_id','tran_date','prod_subcat_code',\n",
    "               'prod_cat_code','Qty','Rate','Tax','total_amt','Store_type','prod_cat','prod_subcat']]\n",
    "retail.head()"
   ]
  },
  {
   "cell_type": "markdown",
   "id": "e9215279",
   "metadata": {},
   "source": [
    "## 2. Prepare a summary report for the merged data set."
   ]
  },
  {
   "cell_type": "markdown",
   "id": "45c0e8ec",
   "metadata": {},
   "source": [
    "###   a. Get the column names and their corresponding data types "
   ]
  },
  {
   "cell_type": "code",
   "execution_count": 4,
   "id": "de6c2101",
   "metadata": {},
   "outputs": [
    {
     "data": {
      "text/plain": [
       "customer_Id           int64\n",
       "DOB                  object\n",
       "Gender               object\n",
       "city_code           float64\n",
       "transaction_id        int64\n",
       "tran_date            object\n",
       "prod_subcat_code      int64\n",
       "prod_cat_code         int64\n",
       "Qty                   int64\n",
       "Rate                  int64\n",
       "Tax                 float64\n",
       "total_amt           float64\n",
       "Store_type           object\n",
       "prod_cat             object\n",
       "prod_subcat          object\n",
       "dtype: object"
      ]
     },
     "execution_count": 4,
     "metadata": {},
     "output_type": "execute_result"
    }
   ],
   "source": [
    "retail.dtypes"
   ]
  },
  {
   "cell_type": "markdown",
   "id": "aafa6f84",
   "metadata": {},
   "source": [
    "### b. Top/Bottom 10 observations\n"
   ]
  },
  {
   "cell_type": "code",
   "execution_count": 5,
   "id": "54c56b6f",
   "metadata": {},
   "outputs": [
    {
     "data": {
      "text/html": [
       "<div>\n",
       "<style scoped>\n",
       "    .dataframe tbody tr th:only-of-type {\n",
       "        vertical-align: middle;\n",
       "    }\n",
       "\n",
       "    .dataframe tbody tr th {\n",
       "        vertical-align: top;\n",
       "    }\n",
       "\n",
       "    .dataframe thead th {\n",
       "        text-align: right;\n",
       "    }\n",
       "</style>\n",
       "<table border=\"1\" class=\"dataframe\">\n",
       "  <thead>\n",
       "    <tr style=\"text-align: right;\">\n",
       "      <th></th>\n",
       "      <th>customer_Id</th>\n",
       "      <th>DOB</th>\n",
       "      <th>Gender</th>\n",
       "      <th>city_code</th>\n",
       "      <th>transaction_id</th>\n",
       "      <th>tran_date</th>\n",
       "      <th>prod_subcat_code</th>\n",
       "      <th>prod_cat_code</th>\n",
       "      <th>Qty</th>\n",
       "      <th>Rate</th>\n",
       "      <th>Tax</th>\n",
       "      <th>total_amt</th>\n",
       "      <th>Store_type</th>\n",
       "      <th>prod_cat</th>\n",
       "      <th>prod_subcat</th>\n",
       "    </tr>\n",
       "  </thead>\n",
       "  <tbody>\n",
       "    <tr>\n",
       "      <th>0</th>\n",
       "      <td>268408</td>\n",
       "      <td>02-01-1970</td>\n",
       "      <td>M</td>\n",
       "      <td>4.0</td>\n",
       "      <td>87243835584</td>\n",
       "      <td>13-01-2014</td>\n",
       "      <td>7</td>\n",
       "      <td>5</td>\n",
       "      <td>5</td>\n",
       "      <td>187</td>\n",
       "      <td>98.175</td>\n",
       "      <td>1033.175</td>\n",
       "      <td>TeleShop</td>\n",
       "      <td>Books</td>\n",
       "      <td>Fiction</td>\n",
       "    </tr>\n",
       "    <tr>\n",
       "      <th>1</th>\n",
       "      <td>275152</td>\n",
       "      <td>16-01-1970</td>\n",
       "      <td>M</td>\n",
       "      <td>4.0</td>\n",
       "      <td>73109425404</td>\n",
       "      <td>25-03-2011</td>\n",
       "      <td>7</td>\n",
       "      <td>5</td>\n",
       "      <td>2</td>\n",
       "      <td>464</td>\n",
       "      <td>97.440</td>\n",
       "      <td>1025.440</td>\n",
       "      <td>e-Shop</td>\n",
       "      <td>Books</td>\n",
       "      <td>Fiction</td>\n",
       "    </tr>\n",
       "    <tr>\n",
       "      <th>2</th>\n",
       "      <td>275034</td>\n",
       "      <td>18-01-1970</td>\n",
       "      <td>F</td>\n",
       "      <td>4.0</td>\n",
       "      <td>64777271023</td>\n",
       "      <td>23-05-2011</td>\n",
       "      <td>7</td>\n",
       "      <td>5</td>\n",
       "      <td>2</td>\n",
       "      <td>197</td>\n",
       "      <td>41.370</td>\n",
       "      <td>435.370</td>\n",
       "      <td>Flagship store</td>\n",
       "      <td>Books</td>\n",
       "      <td>Fiction</td>\n",
       "    </tr>\n",
       "    <tr>\n",
       "      <th>3</th>\n",
       "      <td>270829</td>\n",
       "      <td>22-01-1970</td>\n",
       "      <td>F</td>\n",
       "      <td>8.0</td>\n",
       "      <td>87174343938</td>\n",
       "      <td>9/12/2013</td>\n",
       "      <td>7</td>\n",
       "      <td>5</td>\n",
       "      <td>4</td>\n",
       "      <td>1141</td>\n",
       "      <td>479.220</td>\n",
       "      <td>5043.220</td>\n",
       "      <td>e-Shop</td>\n",
       "      <td>Books</td>\n",
       "      <td>Fiction</td>\n",
       "    </tr>\n",
       "    <tr>\n",
       "      <th>4</th>\n",
       "      <td>267657</td>\n",
       "      <td>29-01-1970</td>\n",
       "      <td>F</td>\n",
       "      <td>7.0</td>\n",
       "      <td>76242744953</td>\n",
       "      <td>23-05-2013</td>\n",
       "      <td>7</td>\n",
       "      <td>5</td>\n",
       "      <td>4</td>\n",
       "      <td>1020</td>\n",
       "      <td>428.400</td>\n",
       "      <td>4508.400</td>\n",
       "      <td>e-Shop</td>\n",
       "      <td>Books</td>\n",
       "      <td>Fiction</td>\n",
       "    </tr>\n",
       "    <tr>\n",
       "      <th>5</th>\n",
       "      <td>274630</td>\n",
       "      <td>01-02-1970</td>\n",
       "      <td>M</td>\n",
       "      <td>4.0</td>\n",
       "      <td>78357345891</td>\n",
       "      <td>11/4/2012</td>\n",
       "      <td>7</td>\n",
       "      <td>5</td>\n",
       "      <td>1</td>\n",
       "      <td>646</td>\n",
       "      <td>67.830</td>\n",
       "      <td>713.830</td>\n",
       "      <td>TeleShop</td>\n",
       "      <td>Books</td>\n",
       "      <td>Fiction</td>\n",
       "    </tr>\n",
       "    <tr>\n",
       "      <th>6</th>\n",
       "      <td>273541</td>\n",
       "      <td>01-02-1970</td>\n",
       "      <td>M</td>\n",
       "      <td>4.0</td>\n",
       "      <td>23916816961</td>\n",
       "      <td>9/2/2013</td>\n",
       "      <td>7</td>\n",
       "      <td>5</td>\n",
       "      <td>4</td>\n",
       "      <td>410</td>\n",
       "      <td>172.200</td>\n",
       "      <td>1812.200</td>\n",
       "      <td>e-Shop</td>\n",
       "      <td>Books</td>\n",
       "      <td>Fiction</td>\n",
       "    </tr>\n",
       "    <tr>\n",
       "      <th>7</th>\n",
       "      <td>269008</td>\n",
       "      <td>13-02-1970</td>\n",
       "      <td>F</td>\n",
       "      <td>6.0</td>\n",
       "      <td>35560569829</td>\n",
       "      <td>9/3/2013</td>\n",
       "      <td>7</td>\n",
       "      <td>5</td>\n",
       "      <td>1</td>\n",
       "      <td>1441</td>\n",
       "      <td>151.305</td>\n",
       "      <td>1592.305</td>\n",
       "      <td>e-Shop</td>\n",
       "      <td>Books</td>\n",
       "      <td>Fiction</td>\n",
       "    </tr>\n",
       "    <tr>\n",
       "      <th>8</th>\n",
       "      <td>269008</td>\n",
       "      <td>13-02-1970</td>\n",
       "      <td>F</td>\n",
       "      <td>6.0</td>\n",
       "      <td>94033312891</td>\n",
       "      <td>26-04-2012</td>\n",
       "      <td>7</td>\n",
       "      <td>5</td>\n",
       "      <td>5</td>\n",
       "      <td>746</td>\n",
       "      <td>391.650</td>\n",
       "      <td>4121.650</td>\n",
       "      <td>MBR</td>\n",
       "      <td>Books</td>\n",
       "      <td>Fiction</td>\n",
       "    </tr>\n",
       "    <tr>\n",
       "      <th>9</th>\n",
       "      <td>267199</td>\n",
       "      <td>14-02-1970</td>\n",
       "      <td>NaN</td>\n",
       "      <td>2.0</td>\n",
       "      <td>56749259881</td>\n",
       "      <td>11/1/2012</td>\n",
       "      <td>7</td>\n",
       "      <td>5</td>\n",
       "      <td>4</td>\n",
       "      <td>1049</td>\n",
       "      <td>440.580</td>\n",
       "      <td>4636.580</td>\n",
       "      <td>MBR</td>\n",
       "      <td>Books</td>\n",
       "      <td>Fiction</td>\n",
       "    </tr>\n",
       "  </tbody>\n",
       "</table>\n",
       "</div>"
      ],
      "text/plain": [
       "   customer_Id         DOB Gender  city_code  transaction_id   tran_date  \\\n",
       "0       268408  02-01-1970      M        4.0     87243835584  13-01-2014   \n",
       "1       275152  16-01-1970      M        4.0     73109425404  25-03-2011   \n",
       "2       275034  18-01-1970      F        4.0     64777271023  23-05-2011   \n",
       "3       270829  22-01-1970      F        8.0     87174343938   9/12/2013   \n",
       "4       267657  29-01-1970      F        7.0     76242744953  23-05-2013   \n",
       "5       274630  01-02-1970      M        4.0     78357345891   11/4/2012   \n",
       "6       273541  01-02-1970      M        4.0     23916816961    9/2/2013   \n",
       "7       269008  13-02-1970      F        6.0     35560569829    9/3/2013   \n",
       "8       269008  13-02-1970      F        6.0     94033312891  26-04-2012   \n",
       "9       267199  14-02-1970    NaN        2.0     56749259881   11/1/2012   \n",
       "\n",
       "   prod_subcat_code  prod_cat_code  Qty  Rate      Tax  total_amt  \\\n",
       "0                 7              5    5   187   98.175   1033.175   \n",
       "1                 7              5    2   464   97.440   1025.440   \n",
       "2                 7              5    2   197   41.370    435.370   \n",
       "3                 7              5    4  1141  479.220   5043.220   \n",
       "4                 7              5    4  1020  428.400   4508.400   \n",
       "5                 7              5    1   646   67.830    713.830   \n",
       "6                 7              5    4   410  172.200   1812.200   \n",
       "7                 7              5    1  1441  151.305   1592.305   \n",
       "8                 7              5    5   746  391.650   4121.650   \n",
       "9                 7              5    4  1049  440.580   4636.580   \n",
       "\n",
       "       Store_type prod_cat prod_subcat  \n",
       "0        TeleShop    Books     Fiction  \n",
       "1          e-Shop    Books     Fiction  \n",
       "2  Flagship store    Books     Fiction  \n",
       "3          e-Shop    Books     Fiction  \n",
       "4          e-Shop    Books     Fiction  \n",
       "5        TeleShop    Books     Fiction  \n",
       "6          e-Shop    Books     Fiction  \n",
       "7          e-Shop    Books     Fiction  \n",
       "8             MBR    Books     Fiction  \n",
       "9             MBR    Books     Fiction  "
      ]
     },
     "execution_count": 5,
     "metadata": {},
     "output_type": "execute_result"
    }
   ],
   "source": [
    "# Top 10 observations\n",
    "retail.head(10)"
   ]
  },
  {
   "cell_type": "code",
   "execution_count": 6,
   "id": "261088b5",
   "metadata": {},
   "outputs": [
    {
     "data": {
      "text/html": [
       "<div>\n",
       "<style scoped>\n",
       "    .dataframe tbody tr th:only-of-type {\n",
       "        vertical-align: middle;\n",
       "    }\n",
       "\n",
       "    .dataframe tbody tr th {\n",
       "        vertical-align: top;\n",
       "    }\n",
       "\n",
       "    .dataframe thead th {\n",
       "        text-align: right;\n",
       "    }\n",
       "</style>\n",
       "<table border=\"1\" class=\"dataframe\">\n",
       "  <thead>\n",
       "    <tr style=\"text-align: right;\">\n",
       "      <th></th>\n",
       "      <th>customer_Id</th>\n",
       "      <th>DOB</th>\n",
       "      <th>Gender</th>\n",
       "      <th>city_code</th>\n",
       "      <th>transaction_id</th>\n",
       "      <th>tran_date</th>\n",
       "      <th>prod_subcat_code</th>\n",
       "      <th>prod_cat_code</th>\n",
       "      <th>Qty</th>\n",
       "      <th>Rate</th>\n",
       "      <th>Tax</th>\n",
       "      <th>total_amt</th>\n",
       "      <th>Store_type</th>\n",
       "      <th>prod_cat</th>\n",
       "      <th>prod_subcat</th>\n",
       "    </tr>\n",
       "  </thead>\n",
       "  <tbody>\n",
       "    <tr>\n",
       "      <th>23043</th>\n",
       "      <td>268914</td>\n",
       "      <td>15-11-1992</td>\n",
       "      <td>F</td>\n",
       "      <td>3.0</td>\n",
       "      <td>1407823655</td>\n",
       "      <td>10/6/2011</td>\n",
       "      <td>10</td>\n",
       "      <td>5</td>\n",
       "      <td>1</td>\n",
       "      <td>1252</td>\n",
       "      <td>131.460</td>\n",
       "      <td>1383.460</td>\n",
       "      <td>MBR</td>\n",
       "      <td>Books</td>\n",
       "      <td>Non-Fiction</td>\n",
       "    </tr>\n",
       "    <tr>\n",
       "      <th>23044</th>\n",
       "      <td>269519</td>\n",
       "      <td>17-11-1992</td>\n",
       "      <td>M</td>\n",
       "      <td>9.0</td>\n",
       "      <td>29719500605</td>\n",
       "      <td>24-12-2013</td>\n",
       "      <td>10</td>\n",
       "      <td>5</td>\n",
       "      <td>4</td>\n",
       "      <td>1036</td>\n",
       "      <td>435.120</td>\n",
       "      <td>4579.120</td>\n",
       "      <td>TeleShop</td>\n",
       "      <td>Books</td>\n",
       "      <td>Non-Fiction</td>\n",
       "    </tr>\n",
       "    <tr>\n",
       "      <th>23045</th>\n",
       "      <td>273524</td>\n",
       "      <td>25-11-1992</td>\n",
       "      <td>F</td>\n",
       "      <td>1.0</td>\n",
       "      <td>25762805863</td>\n",
       "      <td>19-11-2012</td>\n",
       "      <td>10</td>\n",
       "      <td>5</td>\n",
       "      <td>1</td>\n",
       "      <td>1401</td>\n",
       "      <td>147.105</td>\n",
       "      <td>1548.105</td>\n",
       "      <td>Flagship store</td>\n",
       "      <td>Books</td>\n",
       "      <td>Non-Fiction</td>\n",
       "    </tr>\n",
       "    <tr>\n",
       "      <th>23046</th>\n",
       "      <td>272141</td>\n",
       "      <td>02-12-1992</td>\n",
       "      <td>F</td>\n",
       "      <td>10.0</td>\n",
       "      <td>71337087467</td>\n",
       "      <td>22-07-2012</td>\n",
       "      <td>10</td>\n",
       "      <td>5</td>\n",
       "      <td>-3</td>\n",
       "      <td>-1422</td>\n",
       "      <td>447.930</td>\n",
       "      <td>-4713.930</td>\n",
       "      <td>e-Shop</td>\n",
       "      <td>Books</td>\n",
       "      <td>Non-Fiction</td>\n",
       "    </tr>\n",
       "    <tr>\n",
       "      <th>23047</th>\n",
       "      <td>272141</td>\n",
       "      <td>02-12-1992</td>\n",
       "      <td>F</td>\n",
       "      <td>10.0</td>\n",
       "      <td>71337087467</td>\n",
       "      <td>16-07-2012</td>\n",
       "      <td>10</td>\n",
       "      <td>5</td>\n",
       "      <td>3</td>\n",
       "      <td>1422</td>\n",
       "      <td>447.930</td>\n",
       "      <td>4713.930</td>\n",
       "      <td>e-Shop</td>\n",
       "      <td>Books</td>\n",
       "      <td>Non-Fiction</td>\n",
       "    </tr>\n",
       "    <tr>\n",
       "      <th>23048</th>\n",
       "      <td>267812</td>\n",
       "      <td>04-12-1992</td>\n",
       "      <td>F</td>\n",
       "      <td>1.0</td>\n",
       "      <td>63540378797</td>\n",
       "      <td>10/10/2012</td>\n",
       "      <td>10</td>\n",
       "      <td>5</td>\n",
       "      <td>3</td>\n",
       "      <td>224</td>\n",
       "      <td>70.560</td>\n",
       "      <td>742.560</td>\n",
       "      <td>TeleShop</td>\n",
       "      <td>Books</td>\n",
       "      <td>Non-Fiction</td>\n",
       "    </tr>\n",
       "    <tr>\n",
       "      <th>23049</th>\n",
       "      <td>274618</td>\n",
       "      <td>09-12-1992</td>\n",
       "      <td>F</td>\n",
       "      <td>7.0</td>\n",
       "      <td>71793203305</td>\n",
       "      <td>17-08-2013</td>\n",
       "      <td>10</td>\n",
       "      <td>5</td>\n",
       "      <td>4</td>\n",
       "      <td>691</td>\n",
       "      <td>290.220</td>\n",
       "      <td>3054.220</td>\n",
       "      <td>Flagship store</td>\n",
       "      <td>Books</td>\n",
       "      <td>Non-Fiction</td>\n",
       "    </tr>\n",
       "    <tr>\n",
       "      <th>23050</th>\n",
       "      <td>268097</td>\n",
       "      <td>15-12-1992</td>\n",
       "      <td>F</td>\n",
       "      <td>7.0</td>\n",
       "      <td>91217108818</td>\n",
       "      <td>1/2/2012</td>\n",
       "      <td>10</td>\n",
       "      <td>5</td>\n",
       "      <td>2</td>\n",
       "      <td>411</td>\n",
       "      <td>86.310</td>\n",
       "      <td>908.310</td>\n",
       "      <td>e-Shop</td>\n",
       "      <td>Books</td>\n",
       "      <td>Non-Fiction</td>\n",
       "    </tr>\n",
       "    <tr>\n",
       "      <th>23051</th>\n",
       "      <td>268097</td>\n",
       "      <td>15-12-1992</td>\n",
       "      <td>F</td>\n",
       "      <td>7.0</td>\n",
       "      <td>90114483354</td>\n",
       "      <td>31-01-2011</td>\n",
       "      <td>10</td>\n",
       "      <td>5</td>\n",
       "      <td>-4</td>\n",
       "      <td>-1408</td>\n",
       "      <td>591.360</td>\n",
       "      <td>-6223.360</td>\n",
       "      <td>e-Shop</td>\n",
       "      <td>Books</td>\n",
       "      <td>Non-Fiction</td>\n",
       "    </tr>\n",
       "    <tr>\n",
       "      <th>23052</th>\n",
       "      <td>268097</td>\n",
       "      <td>15-12-1992</td>\n",
       "      <td>F</td>\n",
       "      <td>7.0</td>\n",
       "      <td>90114483354</td>\n",
       "      <td>26-01-2011</td>\n",
       "      <td>10</td>\n",
       "      <td>5</td>\n",
       "      <td>4</td>\n",
       "      <td>1408</td>\n",
       "      <td>591.360</td>\n",
       "      <td>6223.360</td>\n",
       "      <td>e-Shop</td>\n",
       "      <td>Books</td>\n",
       "      <td>Non-Fiction</td>\n",
       "    </tr>\n",
       "  </tbody>\n",
       "</table>\n",
       "</div>"
      ],
      "text/plain": [
       "       customer_Id         DOB Gender  city_code  transaction_id   tran_date  \\\n",
       "23043       268914  15-11-1992      F        3.0      1407823655   10/6/2011   \n",
       "23044       269519  17-11-1992      M        9.0     29719500605  24-12-2013   \n",
       "23045       273524  25-11-1992      F        1.0     25762805863  19-11-2012   \n",
       "23046       272141  02-12-1992      F       10.0     71337087467  22-07-2012   \n",
       "23047       272141  02-12-1992      F       10.0     71337087467  16-07-2012   \n",
       "23048       267812  04-12-1992      F        1.0     63540378797  10/10/2012   \n",
       "23049       274618  09-12-1992      F        7.0     71793203305  17-08-2013   \n",
       "23050       268097  15-12-1992      F        7.0     91217108818    1/2/2012   \n",
       "23051       268097  15-12-1992      F        7.0     90114483354  31-01-2011   \n",
       "23052       268097  15-12-1992      F        7.0     90114483354  26-01-2011   \n",
       "\n",
       "       prod_subcat_code  prod_cat_code  Qty  Rate      Tax  total_amt  \\\n",
       "23043                10              5    1  1252  131.460   1383.460   \n",
       "23044                10              5    4  1036  435.120   4579.120   \n",
       "23045                10              5    1  1401  147.105   1548.105   \n",
       "23046                10              5   -3 -1422  447.930  -4713.930   \n",
       "23047                10              5    3  1422  447.930   4713.930   \n",
       "23048                10              5    3   224   70.560    742.560   \n",
       "23049                10              5    4   691  290.220   3054.220   \n",
       "23050                10              5    2   411   86.310    908.310   \n",
       "23051                10              5   -4 -1408  591.360  -6223.360   \n",
       "23052                10              5    4  1408  591.360   6223.360   \n",
       "\n",
       "           Store_type prod_cat  prod_subcat  \n",
       "23043             MBR    Books  Non-Fiction  \n",
       "23044        TeleShop    Books  Non-Fiction  \n",
       "23045  Flagship store    Books  Non-Fiction  \n",
       "23046          e-Shop    Books  Non-Fiction  \n",
       "23047          e-Shop    Books  Non-Fiction  \n",
       "23048        TeleShop    Books  Non-Fiction  \n",
       "23049  Flagship store    Books  Non-Fiction  \n",
       "23050          e-Shop    Books  Non-Fiction  \n",
       "23051          e-Shop    Books  Non-Fiction  \n",
       "23052          e-Shop    Books  Non-Fiction  "
      ]
     },
     "execution_count": 6,
     "metadata": {},
     "output_type": "execute_result"
    }
   ],
   "source": [
    "# Bottom 10 observations\n",
    "retail.tail(10)"
   ]
  },
  {
   "cell_type": "markdown",
   "id": "dcf994ea",
   "metadata": {},
   "source": [
    "###  c. “Five-number summary” for continuous variables (min, Q1, median, Q3 and max) "
   ]
  },
  {
   "cell_type": "code",
   "execution_count": 7,
   "id": "b1f92137",
   "metadata": {},
   "outputs": [],
   "source": [
    "def summary(x):\n",
    "    five_sum=pd.Series([x.min(),x.quantile(0.25),x.quantile(0.50),x.quantile(0.75),x.max()],index=['min','Q1','median','Q3','max'])\n",
    "    return five_sum"
   ]
  },
  {
   "cell_type": "code",
   "execution_count": 8,
   "id": "cbe9bca5",
   "metadata": {},
   "outputs": [
    {
     "data": {
      "text/html": [
       "<div>\n",
       "<style scoped>\n",
       "    .dataframe tbody tr th:only-of-type {\n",
       "        vertical-align: middle;\n",
       "    }\n",
       "\n",
       "    .dataframe tbody tr th {\n",
       "        vertical-align: top;\n",
       "    }\n",
       "\n",
       "    .dataframe thead th {\n",
       "        text-align: right;\n",
       "    }\n",
       "</style>\n",
       "<table border=\"1\" class=\"dataframe\">\n",
       "  <thead>\n",
       "    <tr style=\"text-align: right;\">\n",
       "      <th></th>\n",
       "      <th>Qty</th>\n",
       "      <th>Rate</th>\n",
       "      <th>Tax</th>\n",
       "      <th>total_amt</th>\n",
       "    </tr>\n",
       "  </thead>\n",
       "  <tbody>\n",
       "    <tr>\n",
       "      <th>min</th>\n",
       "      <td>-5.0</td>\n",
       "      <td>-1499.0</td>\n",
       "      <td>7.350</td>\n",
       "      <td>-8270.925</td>\n",
       "    </tr>\n",
       "    <tr>\n",
       "      <th>Q1</th>\n",
       "      <td>1.0</td>\n",
       "      <td>312.0</td>\n",
       "      <td>98.280</td>\n",
       "      <td>762.450</td>\n",
       "    </tr>\n",
       "    <tr>\n",
       "      <th>median</th>\n",
       "      <td>3.0</td>\n",
       "      <td>710.0</td>\n",
       "      <td>199.080</td>\n",
       "      <td>1754.740</td>\n",
       "    </tr>\n",
       "    <tr>\n",
       "      <th>Q3</th>\n",
       "      <td>4.0</td>\n",
       "      <td>1109.0</td>\n",
       "      <td>365.715</td>\n",
       "      <td>3569.150</td>\n",
       "    </tr>\n",
       "    <tr>\n",
       "      <th>max</th>\n",
       "      <td>5.0</td>\n",
       "      <td>1500.0</td>\n",
       "      <td>787.500</td>\n",
       "      <td>8287.500</td>\n",
       "    </tr>\n",
       "  </tbody>\n",
       "</table>\n",
       "</div>"
      ],
      "text/plain": [
       "        Qty    Rate      Tax  total_amt\n",
       "min    -5.0 -1499.0    7.350  -8270.925\n",
       "Q1      1.0   312.0   98.280    762.450\n",
       "median  3.0   710.0  199.080   1754.740\n",
       "Q3      4.0  1109.0  365.715   3569.150\n",
       "max     5.0  1500.0  787.500   8287.500"
      ]
     },
     "execution_count": 8,
     "metadata": {},
     "output_type": "execute_result"
    }
   ],
   "source": [
    "five_summ=retail[['Qty','Rate','Tax','total_amt']].apply(lambda x: summary(x))\n",
    "five_summ"
   ]
  },
  {
   "cell_type": "markdown",
   "id": "72af7449",
   "metadata": {},
   "source": [
    "### d. Frequency tables for all the categorical variables "
   ]
  },
  {
   "cell_type": "code",
   "execution_count": 9,
   "id": "0c3d3c77",
   "metadata": {},
   "outputs": [],
   "source": [
    "def cat_summ(x):\n",
    "    mode=x.value_counts().sort_values(ascending=False)[0:1].reset_index()\n",
    "    return pd.Series([mode.iloc[0,0],mode.iloc[0,1]],index=['Mode','Frequency'])"
   ]
  },
  {
   "cell_type": "code",
   "execution_count": 10,
   "id": "63678ace",
   "metadata": {},
   "outputs": [
    {
     "data": {
      "text/html": [
       "<div>\n",
       "<style scoped>\n",
       "    .dataframe tbody tr th:only-of-type {\n",
       "        vertical-align: middle;\n",
       "    }\n",
       "\n",
       "    .dataframe tbody tr th {\n",
       "        vertical-align: top;\n",
       "    }\n",
       "\n",
       "    .dataframe thead th {\n",
       "        text-align: right;\n",
       "    }\n",
       "</style>\n",
       "<table border=\"1\" class=\"dataframe\">\n",
       "  <thead>\n",
       "    <tr style=\"text-align: right;\">\n",
       "      <th></th>\n",
       "      <th>Mode</th>\n",
       "      <th>Frequency</th>\n",
       "    </tr>\n",
       "  </thead>\n",
       "  <tbody>\n",
       "    <tr>\n",
       "      <th>customer_Id</th>\n",
       "      <td>268819</td>\n",
       "      <td>13</td>\n",
       "    </tr>\n",
       "    <tr>\n",
       "      <th>DOB</th>\n",
       "      <td>27-12-1988</td>\n",
       "      <td>32</td>\n",
       "    </tr>\n",
       "    <tr>\n",
       "      <th>Gender</th>\n",
       "      <td>M</td>\n",
       "      <td>11811</td>\n",
       "    </tr>\n",
       "    <tr>\n",
       "      <th>transaction_id</th>\n",
       "      <td>426787191</td>\n",
       "      <td>4</td>\n",
       "    </tr>\n",
       "    <tr>\n",
       "      <th>tran_date</th>\n",
       "      <td>13-07-2011</td>\n",
       "      <td>35</td>\n",
       "    </tr>\n",
       "    <tr>\n",
       "      <th>prod_subcat_code</th>\n",
       "      <td>4</td>\n",
       "      <td>4002</td>\n",
       "    </tr>\n",
       "    <tr>\n",
       "      <th>prod_cat_code</th>\n",
       "      <td>5</td>\n",
       "      <td>6069</td>\n",
       "    </tr>\n",
       "    <tr>\n",
       "      <th>Store_type</th>\n",
       "      <td>e-Shop</td>\n",
       "      <td>9311</td>\n",
       "    </tr>\n",
       "    <tr>\n",
       "      <th>prod_cat</th>\n",
       "      <td>Books</td>\n",
       "      <td>6069</td>\n",
       "    </tr>\n",
       "    <tr>\n",
       "      <th>prod_subcat</th>\n",
       "      <td>Women</td>\n",
       "      <td>3048</td>\n",
       "    </tr>\n",
       "  </tbody>\n",
       "</table>\n",
       "</div>"
      ],
      "text/plain": [
       "                        Mode Frequency\n",
       "customer_Id           268819        13\n",
       "DOB               27-12-1988        32\n",
       "Gender                     M     11811\n",
       "transaction_id     426787191         4\n",
       "tran_date         13-07-2011        35\n",
       "prod_subcat_code           4      4002\n",
       "prod_cat_code              5      6069\n",
       "Store_type            e-Shop      9311\n",
       "prod_cat               Books      6069\n",
       "prod_subcat            Women      3048"
      ]
     },
     "execution_count": 10,
     "metadata": {},
     "output_type": "execute_result"
    }
   ],
   "source": [
    "freq_tab=retail.loc[:,~retail.columns.isin(['city_code','Qty','Rate','Tax','total_amt'])].apply(lambda x:cat_summ(x)).T\n",
    "freq_tab"
   ]
  },
  {
   "cell_type": "markdown",
   "id": "427ca2b8",
   "metadata": {},
   "source": [
    "## 3. Generate histograms for all continuous variables and frequency bars for categorical variables. "
   ]
  },
  {
   "cell_type": "code",
   "execution_count": 11,
   "id": "17aa55cb",
   "metadata": {},
   "outputs": [
    {
     "data": {
      "image/png": "[encoded data removed]",
      "text/plain": [
       "<Figure size 1000x800 with 4 Axes>"
      ]
     },
     "metadata": {},
     "output_type": "display_data"
    }
   ],
   "source": [
    "# Histograms for all continuous variables:\n",
    "five_summ.hist(figsize=[10,8])\n",
    "plt.show()"
   ]
  },
  {
   "cell_type": "code",
   "execution_count": 12,
   "id": "86ab8aa0",
   "metadata": {},
   "outputs": [
    {
     "data": {
      "image/png": "[encoded data removed]",
      "text/plain": [
       "<Figure size 1000x500 with 1 Axes>"
      ]
     },
     "metadata": {},
     "output_type": "display_data"
    }
   ],
   "source": [
    "# Frequency bars for all continuous variables:\n",
    "freq_tab.plot(kind='bar',figsize=[10,5])\n",
    "plt.xlabel('Mode')\n",
    "plt.ylabel('Frequency')\n",
    "plt.show()"
   ]
  },
  {
   "cell_type": "markdown",
   "id": "5f30c45c",
   "metadata": {},
   "source": [
    "## 4. Calculate the following information using the merged dataset : "
   ]
  },
  {
   "cell_type": "markdown",
   "id": "ba44fdf9",
   "metadata": {},
   "source": [
    "###  a. Time period of the available transaction data "
   ]
  },
  {
   "cell_type": "code",
   "execution_count": 13,
   "id": "5eb963d3",
   "metadata": {},
   "outputs": [],
   "source": [
    "# Firsly we have to convert object \"tran_date\" variable into proper datetime datatype:\n",
    "retail.tran_date=pd.to_datetime(retail.tran_date.str.replace('/','-'),format='%d-%m-%Y')"
   ]
  },
  {
   "cell_type": "code",
   "execution_count": 14,
   "id": "13f747ba",
   "metadata": {},
   "outputs": [
    {
     "data": {
      "text/plain": [
       "Timedelta('1130 days 00:00:00')"
      ]
     },
     "execution_count": 14,
     "metadata": {},
     "output_type": "execute_result"
    }
   ],
   "source": [
    "retail.tran_date.max()-retail.tran_date.min()"
   ]
  },
  {
   "cell_type": "markdown",
   "id": "08e2aea5",
   "metadata": {},
   "source": [
    "### b. Count of transactions where the total amount of transaction was negative"
   ]
  },
  {
   "cell_type": "code",
   "execution_count": 15,
   "id": "cbaef65a",
   "metadata": {},
   "outputs": [
    {
     "data": {
      "text/plain": [
       "2177"
      ]
     },
     "execution_count": 15,
     "metadata": {},
     "output_type": "execute_result"
    }
   ],
   "source": [
    "retail.loc[retail.total_amt<0,:].transaction_id.count()"
   ]
  },
  {
   "cell_type": "markdown",
   "id": "0d3be79d",
   "metadata": {},
   "source": [
    "## 5. Analyze which product categories are more popular among females vs male customers. "
   ]
  },
  {
   "cell_type": "code",
   "execution_count": 16,
   "id": "f632dd4e",
   "metadata": {},
   "outputs": [
    {
     "data": {
      "text/plain": [
       "prod_cat\n",
       "Books    2825\n",
       "Name: transaction_id, dtype: int64"
      ]
     },
     "execution_count": 16,
     "metadata": {},
     "output_type": "execute_result"
    }
   ],
   "source": [
    "# popular category among male:\n",
    "retail.loc[(retail.Gender=='M')&(retail.Qty>0),:].groupby('prod_cat').transaction_id.count().sort_values(ascending=False).head(1)"
   ]
  },
  {
   "cell_type": "code",
   "execution_count": 17,
   "id": "04639359",
   "metadata": {},
   "outputs": [
    {
     "data": {
      "text/plain": [
       "prod_cat\n",
       "Books    2657\n",
       "Name: transaction_id, dtype: int64"
      ]
     },
     "execution_count": 17,
     "metadata": {},
     "output_type": "execute_result"
    }
   ],
   "source": [
    "# popular category among female:\n",
    "retail.loc[(retail.Gender=='F')&(retail.Qty>0),:].groupby('prod_cat').transaction_id.count().sort_values(ascending=False).head(1)"
   ]
  },
  {
   "cell_type": "markdown",
   "id": "bfe80537",
   "metadata": {},
   "source": [
    "## 6. Which City code has the maximum customers and what was the percentage of customers from that city? "
   ]
  },
  {
   "cell_type": "code",
   "execution_count": 18,
   "id": "1e16718e",
   "metadata": {},
   "outputs": [
    {
     "data": {
      "text/plain": [
       "city_code\n",
       "3.0    576\n",
       "Name: customer_Id, dtype: int64"
      ]
     },
     "execution_count": 18,
     "metadata": {},
     "output_type": "execute_result"
    }
   ],
   "source": [
    "# City code with maximum number of customers:\n",
    "retail.loc[~retail.customer_Id.duplicated(),:].groupby('city_code').customer_Id.count().sort_values(ascending=False).head(1)"
   ]
  },
  {
   "cell_type": "code",
   "execution_count": 19,
   "id": "d6e88623",
   "metadata": {},
   "outputs": [
    {
     "data": {
      "text/plain": [
       "city_code\n",
       "1.0      9.720203\n",
       "2.0      9.920058\n",
       "3.0     10.465116\n",
       "4.0     10.337936\n",
       "5.0     10.356105\n",
       "6.0      9.375000\n",
       "7.0     10.228924\n",
       "8.0     10.010901\n",
       "9.0      9.665698\n",
       "10.0     9.920058\n",
       "Name: customer_Id, dtype: float64"
      ]
     },
     "execution_count": 19,
     "metadata": {},
     "output_type": "execute_result"
    }
   ],
   "source": [
    "# City wise percentage of customers:\n",
    "(retail.loc[~retail.customer_Id.duplicated(),:].groupby('city_code').customer_Id.count()/retail.loc[~retail.customer_Id.duplicated(),:].groupby('city_code').customer_Id.count().sum())*100"
   ]
  },
  {
   "cell_type": "markdown",
   "id": "06aa33e7",
   "metadata": {},
   "source": [
    "## 7. Which store type sells the maximum products by value and by quantity?"
   ]
  },
  {
   "cell_type": "code",
   "execution_count": 29,
   "id": "11d7b48c",
   "metadata": {},
   "outputs": [
    {
     "data": {
      "text/plain": [
       "Store_type\n",
       "e-Shop    2.218561e+07\n",
       "Name: total_amt, dtype: float64"
      ]
     },
     "execution_count": 29,
     "metadata": {},
     "output_type": "execute_result"
    }
   ],
   "source": [
    "# Store type which sells maximum products by value:\n",
    "retail.loc[retail.Qty>0,].groupby('Store_type').total_amt.sum().sort_values(ascending=False).head(1)"
   ]
  },
  {
   "cell_type": "code",
   "execution_count": 34,
   "id": "ab56ae1e",
   "metadata": {},
   "outputs": [
    {
     "data": {
      "text/plain": [
       "Store_type\n",
       "e-Shop    25435\n",
       "Name: Qty, dtype: int64"
      ]
     },
     "execution_count": 34,
     "metadata": {},
     "output_type": "execute_result"
    }
   ],
   "source": [
    "# Store type which sells maximum products by quantity:\n",
    "retail.loc[retail.Qty>0,].groupby('Store_type').Qty.sum().sort_values(ascending=False).head(1)"
   ]
  },
  {
   "cell_type": "markdown",
   "id": "85a232a9",
   "metadata": {},
   "source": [
    "## 8. What was the total amount earned from the \"Electronics\" and \"Clothing\" categories from Flagship Stores? "
   ]
  },
  {
   "cell_type": "code",
   "execution_count": 42,
   "id": "e3cfc696",
   "metadata": {},
   "outputs": [
    {
     "data": {
      "text/plain": [
       "3409559.27"
      ]
     },
     "execution_count": 42,
     "metadata": {},
     "output_type": "execute_result"
    }
   ],
   "source": [
    "retail.loc[(retail.Store_type=='Flagship store')&(retail.prod_cat.isin([\"Electronics\",\"Clothing\"])),].total_amt.sum()"
   ]
  },
  {
   "cell_type": "markdown",
   "id": "07ff6548",
   "metadata": {},
   "source": [
    "## 9. What was the total amount earned from \"Male\" customers under the \"Electronics\" category? "
   ]
  },
  {
   "cell_type": "code",
   "execution_count": 45,
   "id": "140df04f",
   "metadata": {},
   "outputs": [
    {
     "data": {
      "text/plain": [
       "5703109.425"
      ]
     },
     "execution_count": 45,
     "metadata": {},
     "output_type": "execute_result"
    }
   ],
   "source": [
    "retail.loc[(retail.Gender=='M')&(retail.prod_cat=='Electronics'),].total_amt.sum()"
   ]
  },
  {
   "cell_type": "markdown",
   "id": "118df2b5",
   "metadata": {},
   "source": [
    "## 10. How many customers have more than 10 unique transactions, after removing all transactions which have any negative amounts? "
   ]
  },
  {
   "cell_type": "code",
   "execution_count": 56,
   "id": "b7485e5c",
   "metadata": {},
   "outputs": [
    {
     "data": {
      "text/plain": [
       "6"
      ]
     },
     "execution_count": 56,
     "metadata": {},
     "output_type": "execute_result"
    }
   ],
   "source": [
    "unique_tran=retail.loc[retail.total_amt>0,].groupby('customer_Id').transaction_id.count().sort_values(ascending=False).reset_index()\n",
    "unique_tran.loc[unique_tran.transaction_id>10].customer_Id.count()"
   ]
  },
  {
   "cell_type": "markdown",
   "id": "74e289e2",
   "metadata": {},
   "source": [
    "## 11. For all customers aged between 25 - 35, find out: "
   ]
  },
  {
   "cell_type": "code",
   "execution_count": 90,
   "id": "800053b3",
   "metadata": {},
   "outputs": [],
   "source": [
    "# First convert DOB variable into datetime datatype:\n",
    "retail.DOB=pd.to_datetime(retail.DOB,format='%d-%m-%Y')\n",
    "# Then create a age variable:\n",
    "retail['Age']=round((pd.Timestamp.now()-retail.DOB )/np.timedelta64(1,'Y'),0)"
   ]
  },
  {
   "cell_type": "code",
   "execution_count": 101,
   "id": "3ffb0cd4",
   "metadata": {},
   "outputs": [],
   "source": [
    "# Filter data only having customers aged between 25 and 36:\n",
    "fildata=retail.loc[(retail.Age>24)&(retail.Age<36),]"
   ]
  },
  {
   "cell_type": "markdown",
   "id": "60433e75",
   "metadata": {},
   "source": [
    "###  a. What was the total amount spent for “Electronics” and “Books” product categories? "
   ]
  },
  {
   "cell_type": "code",
   "execution_count": 116,
   "id": "92ea6691",
   "metadata": {},
   "outputs": [
    {
     "data": {
      "text/plain": [
       "5562394.305"
      ]
     },
     "execution_count": 116,
     "metadata": {},
     "output_type": "execute_result"
    }
   ],
   "source": [
    "fildata.loc[(fildata.prod_cat.isin(['Electronics','Books'])),].total_amt.sum()"
   ]
  },
  {
   "cell_type": "markdown",
   "id": "c2bad11f",
   "metadata": {},
   "source": [
    "### b. What was the total amount spent by these customers between 1st Jan, 2014 to 1st Mar, 2014?\n"
   ]
  },
  {
   "cell_type": "code",
   "execution_count": 115,
   "id": "3ee02f32",
   "metadata": {},
   "outputs": [
    {
     "data": {
      "text/plain": [
       "611968.89"
      ]
     },
     "execution_count": 115,
     "metadata": {},
     "output_type": "execute_result"
    }
   ],
   "source": [
    "ranged=pd.date_range('2014-01-01','2014-03-01')\n",
    "fildata.loc[(fildata.tran_date.isin(ranged)),].total_amt.sum()"
   ]
  },
  {
   "cell_type": "code",
   "execution_count": null,
   "id": "74b146f8",
   "metadata": {},
   "outputs": [],
   "source": []
  },
  {
   "cell_type": "code",
   "execution_count": null,
   "id": "4eae160a",
   "metadata": {},
   "outputs": [],
   "source": []
  },
  {
   "cell_type": "code",
   "execution_count": null,
   "id": "aaf69000",
   "metadata": {},
   "outputs": [],
   "source": []
  },
  {
   "cell_type": "code",
   "execution_count": null,
   "id": "ea28077a",
   "metadata": {},
   "outputs": [],
   "source": []
  },
  {
   "cell_type": "code",
   "execution_count": null,
   "id": "d9a5c915",
   "metadata": {},
   "outputs": [],
   "source": []
  },
  {
   "cell_type": "code",
   "execution_count": null,
   "id": "2d4cf54f",
   "metadata": {},
   "outputs": [],
   "source": []
  },
  {
   "cell_type": "code",
   "execution_count": null,
   "id": "1a5bf559",
   "metadata": {},
   "outputs": [],
   "source": []
  },
  {
   "cell_type": "code",
   "execution_count": null,
   "id": "b61871f6",
   "metadata": {},
   "outputs": [],
   "source": []
  }
 ],
 "metadata": {
  "kernelspec": {
   "display_name": "Python 3 (ipykernel)",
   "language": "python",
   "name": "python3"
  },
  "language_info": {
   "codemirror_mode": {
    "name": "ipython",
    "version": 3
   },
   "file_extension": ".py",
   "mimetype": "text/x-python",
   "name": "python",
   "nbconvert_exporter": "python",
   "pygments_lexer": "ipython3",
   "version": "3.9.13"
  }
 },
 "nbformat": 4,
 "nbformat_minor": 5
}
